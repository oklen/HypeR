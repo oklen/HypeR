{
 "cells": [
  {
   "cell_type": "code",
   "execution_count": null,
   "id": "b0350acc",
   "metadata": {},
   "outputs": [],
   "source": [
    "import torch\n",
    "from transformers import AutoModelForMaskedLM, AutoTokenizer\n",
    "from splade.src.models.transformer_rep import Splade\n",
    "import pickle\n",
    "import gc\n",
    "\n",
    "passage_name = 'kilt_passages_2048_0.pkl'\n",
    "title_name = 'kilt_w100_title.tsv'\n",
    "mapping_name = 'mapping_KILT_title.p'\n",
    "data_dir = '/home/v-zefengcai/models/'\n",
    "\n",
    "\n",
    "from multiprocessing import Pool\n",
    "\n",
    "import csv, pickle\n",
    "tsv_file = open(data_dir + title_name)\n",
    "read_tsv = csv. reader(tsv_file, delimiter=\"\\t\")\n",
    "titles = [*read_tsv]\n",
    "passages = pickle.load(open(data_dir + passage_name, 'rb'))\n",
    "mappings = pickle.load(open(data_dir + mapping_name, 'rb'))\n",
    "print(len(titles))\n",
    "print(len(passages))\n",
    "print(len(mappings))"
   ]
  },
  {
   "cell_type": "code",
   "execution_count": null,
   "id": "97001b0e",
   "metadata": {},
   "outputs": [],
   "source": []
  }
 ],
 "metadata": {
  "kernelspec": {
   "display_name": "Python 3 (ipykernel)",
   "language": "python",
   "name": "python3"
  },
  "language_info": {
   "codemirror_mode": {
    "name": "ipython",
    "version": 3
   },
   "file_extension": ".py",
   "mimetype": "text/x-python",
   "name": "python",
   "nbconvert_exporter": "python",
   "pygments_lexer": "ipython3",
   "version": "3.8.8"
  }
 },
 "nbformat": 4,
 "nbformat_minor": 5
}
